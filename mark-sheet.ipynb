{
 "cells": [
  {
   "cell_type": "code",
   "execution_count": 39,
   "id": "76ab3ba3",
   "metadata": {},
   "outputs": [
    {
     "name": "stdout",
     "output_type": "stream",
     "text": [
      "Congratulations: You got A+ Grade! And your obtain marks is: 270\n"
     ]
    }
   ],
   "source": [
    "import math;\n",
    "\n",
    "english = 90;\n",
    "islamiyat = 90;\n",
    "maths = 90;\n",
    "\n",
    "if(english < 0 or english > 100):\n",
    "    print('ALERT: English\\'s Number should be positive and less than 100');\n",
    "    english = 0;\n",
    "    \n",
    "if(islamiyat < 0 or islamiyat > 100):\n",
    "    print('ALERT: Islamiyat\\' Number should be positive and less than 100');\n",
    "    islamiyat = 0;\n",
    "    \n",
    "if(maths < 0 or maths > 100):\n",
    "    print('ALERT: Math\\'s Number should be positive and less than 100');\n",
    "    maths = 0;\n",
    "\n",
    "totalMarks = 300;\n",
    "obtainMarks = math.floor(english) + math.floor(islamiyat) + math.floor(maths);\n",
    "percentage = math.floor((obtainMarks/totalMarks) * 100);\n",
    "\n",
    "if(percentage < 100 and percentage >= 90):\n",
    "    print('Congratulations: You got A+ Grade! And your obtain marks is:',obtainMarks);\n",
    "elif(percentage < 90 and percentage >= 80):\n",
    "    print('Congratulations: You got A Grade! And your obtain marks is:',obtainMarks);\n",
    "elif(percentage < 80 and percentage >= 70):\n",
    "    print('Congratulations: You got B Grade! And your obtain marks is:',obtainMarks);\n",
    "elif(percentage < 70 and percentage >= 60):\n",
    "    print('Congratulations: You got C Grade! And your obtain marks is:',obtainMarks);\n",
    "elif(percentage < 60 and percentage >= 50):\n",
    "    print('Keep Work Hard: You got D Grade! And your obtain marks is:',obtainMarks);\n",
    "elif(percentage < 50 and percentage >= 40):\n",
    "    print('Keep Work Hard: You got E Grade! And your obtain marks is:',obtainMarks);\n",
    "else:\n",
    "    print('Failed.. And your total marks is:',obtainMarks);"
   ]
  },
  {
   "cell_type": "code",
   "execution_count": null,
   "id": "1b45c903",
   "metadata": {},
   "outputs": [],
   "source": []
  }
 ],
 "metadata": {
  "kernelspec": {
   "display_name": "Python 3",
   "language": "python",
   "name": "python3"
  },
  "language_info": {
   "codemirror_mode": {
    "name": "ipython",
    "version": 3
   },
   "file_extension": ".py",
   "mimetype": "text/x-python",
   "name": "python",
   "nbconvert_exporter": "python",
   "pygments_lexer": "ipython3",
   "version": "3.8.8"
  }
 },
 "nbformat": 4,
 "nbformat_minor": 5
}
